{
 "cells": [
  {
   "cell_type": "code",
   "execution_count": 3,
   "metadata": {},
   "outputs": [],
   "source": [
    "import tensorflow as tf"
   ]
  },
  {
   "cell_type": "code",
   "execution_count": 5,
   "metadata": {},
   "outputs": [
    {
     "data": {
      "text/plain": [
       "'1.14.0'"
      ]
     },
     "execution_count": 5,
     "metadata": {},
     "output_type": "execute_result"
    }
   ],
   "source": [
    "tf.__version__"
   ]
  },
  {
   "cell_type": "code",
   "execution_count": 11,
   "metadata": {},
   "outputs": [
    {
     "name": "stdout",
     "output_type": "stream",
     "text": [
      "Tensor(\"Const_5:0\", shape=(), dtype=string)\n",
      "b'Hello world'\n"
     ]
    }
   ],
   "source": [
    "#create tensorflow object called tensor\n",
    "hello_constant =tf.constant('Hello world')\n",
    "\n",
    "print(hello_constant)\n",
    "\n",
    "# creating the session with sesion we can't return the result\n",
    "with tf.Session() as sess :\n",
    "    \n",
    "    output =  sess.run(hello_constant)\n",
    "    print(output)\n"
   ]
  },
  {
   "cell_type": "code",
   "execution_count": 17,
   "metadata": {},
   "outputs": [
    {
     "name": "stdout",
     "output_type": "stream",
     "text": [
      "123455\n"
     ]
    }
   ],
   "source": [
    "A =  tf.constant(123455)\n",
    "# x = tf.placeholder(tf.string)\n",
    "\n",
    "with tf.Session() as Sess:\n",
    "    output = Sess.run(A)\n",
    "    print(output)"
   ]
  },
  {
   "cell_type": "code",
   "execution_count": 26,
   "metadata": {},
   "outputs": [
    {
     "name": "stdout",
     "output_type": "stream",
     "text": [
      "Test String\n",
      "45\n"
     ]
    }
   ],
   "source": [
    "x =  tf.placeholder(tf.string)\n",
    "y = tf.placeholder(tf.int16)\n",
    "\n",
    "with tf.Session() as Sess:\n",
    "    output_x =  Sess.run(x,feed_dict={x: 'Test String'})\n",
    "    output_y = Sess.run(y,feed_dict = {y:45})\n",
    "    print(output_x)\n",
    "    print(output_y)"
   ]
  },
  {
   "cell_type": "code",
   "execution_count": 27,
   "metadata": {},
   "outputs": [],
   "source": [
    "#adding \n",
    "x = tf.constant(10)\n",
    "y = tf.constant(100)\n",
    "\n"
   ]
  },
  {
   "cell_type": "markdown",
   "metadata": {},
   "source": [
    "## tf.Veriable"
   ]
  },
  {
   "cell_type": "code",
   "execution_count": null,
   "metadata": {},
   "outputs": [],
   "source": []
  },
  {
   "cell_type": "code",
   "execution_count": 29,
   "metadata": {},
   "outputs": [],
   "source": [
    "#tf.trunket_normal()\n",
    "\n",
    "n_features = 120\n",
    "n_label = 5\n",
    "weight = tf.Variable(tf.truncated_normal((n_features,n_label)))"
   ]
  },
  {
   "cell_type": "code",
   "execution_count": 31,
   "metadata": {},
   "outputs": [
    {
     "name": "stdout",
     "output_type": "stream",
     "text": [
      "Tensor(\"truncated_normal_3:0\", shape=(120, 5), dtype=float32)\n"
     ]
    }
   ],
   "source": [
    "intit = tf.global_variables_initializer()\n",
    "with tf.Session() as Sess:\n",
    "    o = tf.truncated_normal((n_features,n_label))\n",
    "    print(o)"
   ]
  },
  {
   "cell_type": "code",
   "execution_count": 36,
   "metadata": {},
   "outputs": [
    {
     "data": {
      "text/plain": [
       "array([[0., 0., 0.],\n",
       "       [0., 0., 0.],\n",
       "       [0., 0., 0.],\n",
       "       [0., 0., 0.],\n",
       "       [0., 0., 0.]])"
      ]
     },
     "execution_count": 36,
     "metadata": {},
     "output_type": "execute_result"
    }
   ],
   "source": [
    "import numpy as np\n",
    "np.zeros((5,3))"
   ]
  },
  {
   "cell_type": "code",
   "execution_count": 38,
   "metadata": {},
   "outputs": [],
   "source": [
    "n_labesl = 5\n",
    "bias = tf.Variable(tf.zeros(n_label))\n"
   ]
  },
  {
   "cell_type": "code",
   "execution_count": 41,
   "metadata": {},
   "outputs": [
    {
     "name": "stdout",
     "output_type": "stream",
     "text": [
      "[0.65223986 0.23994564 0.10781453]\n"
     ]
    }
   ],
   "source": [
    "#Softmax\n",
    "x = tf.nn.softmax([2.0,1.0,0.2])\n",
    "with tf.Session() as Sess:\n",
    "    o = Sess.run(x)\n",
    "    print(o)"
   ]
  },
  {
   "cell_type": "code",
   "execution_count": null,
   "metadata": {},
   "outputs": [],
   "source": [
    "import tensorflow as tf\n",
    "\n",
    "def run_2():\n",
    "    output = None\n",
    "    logit_data = [2.0,1.0,]\n",
    "    "
   ]
  }
 ],
 "metadata": {
  "kernelspec": {
   "display_name": "Python 3",
   "language": "python",
   "name": "python3"
  },
  "language_info": {
   "codemirror_mode": {
    "name": "ipython",
    "version": 3
   },
   "file_extension": ".py",
   "mimetype": "text/x-python",
   "name": "python",
   "nbconvert_exporter": "python",
   "pygments_lexer": "ipython3",
   "version": "3.7.6"
  }
 },
 "nbformat": 4,
 "nbformat_minor": 4
}
